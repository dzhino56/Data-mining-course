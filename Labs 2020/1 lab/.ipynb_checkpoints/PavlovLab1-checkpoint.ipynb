{
 "cells": [
  {
   "cell_type": "markdown",
   "metadata": {
    "id": "qw2fz6IsTueY"
   },
   "source": [
    "Следующие 2 ячейки выполнять не нужно. Они нужны лишь для работы в Google Colab"
   ]
  },
  {
   "cell_type": "code",
   "execution_count": null,
   "metadata": {
    "colab": {
     "base_uri": "https://localhost:8080/",
     "height": 34
    },
    "id": "PXgiTi7nTZU-",
    "outputId": "21c1a5ea-b7fb-4b2d-8b58-cc2715ac8d5f"
   },
   "outputs": [
    {
     "name": "stdout",
     "output_type": "stream",
     "text": [
      "Mounted at /content/drive\n"
     ]
    }
   ],
   "source": [
    "from google.colab import drive\n",
    "drive.mount('/content/drive')"
   ]
  },
  {
   "cell_type": "code",
   "execution_count": null,
   "metadata": {
    "colab": {
     "base_uri": "https://localhost:8080/",
     "height": 34
    },
    "id": "br0LV5vVT_ix",
    "outputId": "3b43ce9b-dfee-4aae-d722-955264119763"
   },
   "outputs": [
    {
     "name": "stdout",
     "output_type": "stream",
     "text": [
      "/content/drive/My Drive/Colab Notebooks/data\n"
     ]
    }
   ],
   "source": [
    "cd /content/drive/My Drive/Colab Notebooks/data"
   ]
  },
  {
   "cell_type": "markdown",
   "metadata": {
    "id": "2Tam8xxPgA2E"
   },
   "source": [
    "Запускать можно код, начиная со следующей ячейки"
   ]
  },
  {
   "cell_type": "code",
   "execution_count": 6,
   "metadata": {
    "id": "geEi3wTfUDaa"
   },
   "outputs": [
    {
     "ename": "ModuleNotFoundError",
     "evalue": "No module named 'pandas'",
     "output_type": "error",
     "traceback": [
      "\u001b[1;31m---------------------------------------------------------------------------\u001b[0m",
      "\u001b[1;31mModuleNotFoundError\u001b[0m                       Traceback (most recent call last)",
      "\u001b[1;32m<ipython-input-6-baf368f80de7>\u001b[0m in \u001b[0;36m<module>\u001b[1;34m\u001b[0m\n\u001b[1;32m----> 1\u001b[1;33m \u001b[1;32mimport\u001b[0m \u001b[0mpandas\u001b[0m \u001b[1;32mas\u001b[0m \u001b[0mpd\u001b[0m\u001b[1;33m\u001b[0m\u001b[1;33m\u001b[0m\u001b[0m\n\u001b[0m\u001b[0;32m      2\u001b[0m \u001b[1;32mimport\u001b[0m \u001b[0mnumpy\u001b[0m \u001b[1;32mas\u001b[0m \u001b[0mnp\u001b[0m\u001b[1;33m\u001b[0m\u001b[1;33m\u001b[0m\u001b[0m\n",
      "\u001b[1;31mModuleNotFoundError\u001b[0m: No module named 'pandas'"
     ]
    }
   ],
   "source": [
    "import pandas as pd\n",
    "import numpy as np"
   ]
  },
  {
   "cell_type": "code",
   "execution_count": 7,
   "metadata": {
    "id": "X69LjA1VteoO"
   },
   "outputs": [],
   "source": [
    "flags_descripts = [\"country\", \"zone\", \"square\", \"population\", \"continent_by_square\", \"continent_by_population\",\"language\",\"religion\",\n",
    "                   \"vertical_count\",\"horizontal_count\",\"colors_count\",\"has_red\",\"has_green\",\"has_blue\",\"has_gold\",\"has_white\",\n",
    "                   \"has_black\",\"has_orange\", \"dominant_color\"]"
   ]
  },
  {
   "cell_type": "code",
   "execution_count": 4,
   "metadata": {
    "colab": {
     "base_uri": "https://localhost:8080/",
     "height": 34
    },
    "id": "7uiNSf7gZOAo",
    "outputId": "4d0eab91-0346-4d5f-d64f-50fd1a631354"
   },
   "outputs": [
    {
     "ename": "NameError",
     "evalue": "name 'pd' is not defined",
     "output_type": "error",
     "traceback": [
      "\u001b[1;31m---------------------------------------------------------------------------\u001b[0m",
      "\u001b[1;31mNameError\u001b[0m                                 Traceback (most recent call last)",
      "\u001b[1;32m<ipython-input-4-a54c5a51eac2>\u001b[0m in \u001b[0;36m<module>\u001b[1;34m\u001b[0m\n\u001b[1;32m----> 1\u001b[1;33m \u001b[0mdf_train\u001b[0m \u001b[1;33m=\u001b[0m \u001b[0mpd\u001b[0m\u001b[1;33m.\u001b[0m\u001b[0mread_csv\u001b[0m\u001b[1;33m(\u001b[0m\u001b[1;34m'Flags.csv'\u001b[0m\u001b[1;33m,\u001b[0m \u001b[0mnames\u001b[0m\u001b[1;33m=\u001b[0m\u001b[0mflags_descripts\u001b[0m\u001b[1;33m,\u001b[0m \u001b[0msep\u001b[0m\u001b[1;33m=\u001b[0m\u001b[1;34m\";\"\u001b[0m\u001b[1;33m)\u001b[0m\u001b[1;33m\u001b[0m\u001b[1;33m\u001b[0m\u001b[0m\n\u001b[0m\u001b[0;32m      2\u001b[0m \u001b[0mdf_train\u001b[0m\u001b[1;33m.\u001b[0m\u001b[0mshape\u001b[0m\u001b[1;33m\u001b[0m\u001b[1;33m\u001b[0m\u001b[0m\n\u001b[0;32m      3\u001b[0m \u001b[1;33m\u001b[0m\u001b[0m\n",
      "\u001b[1;31mNameError\u001b[0m: name 'pd' is not defined"
     ]
    }
   ],
   "source": [
    "df_train = pd.read_csv('Flags.csv', names=flags_descripts, sep=\";\")\n",
    "df_train.shape"
   ]
  },
  {
   "cell_type": "code",
   "execution_count": 5,
   "metadata": {
    "colab": {
     "base_uri": "https://localhost:8080/",
     "height": 455
    },
    "id": "SsHN8Te4ZksX",
    "outputId": "230b4175-d5a1-4b5e-8310-020a6294eff4"
   },
   "outputs": [
    {
     "ename": "NameError",
     "evalue": "name 'df_train' is not defined",
     "output_type": "error",
     "traceback": [
      "\u001b[1;31m---------------------------------------------------------------------------\u001b[0m",
      "\u001b[1;31mNameError\u001b[0m                                 Traceback (most recent call last)",
      "\u001b[1;32m<ipython-input-5-312c4e56ad45>\u001b[0m in \u001b[0;36m<module>\u001b[1;34m\u001b[0m\n\u001b[1;32m----> 1\u001b[1;33m \u001b[0mdf_train\u001b[0m\u001b[1;33m\u001b[0m\u001b[1;33m\u001b[0m\u001b[0m\n\u001b[0m\u001b[0;32m      2\u001b[0m \u001b[1;33m\u001b[0m\u001b[0m\n",
      "\u001b[1;31mNameError\u001b[0m: name 'df_train' is not defined"
     ]
    }
   ],
   "source": [
    "df_train"
   ]
  },
  {
   "cell_type": "code",
   "execution_count": null,
   "metadata": {
    "id": "m_wxG9LNwtoi"
   },
   "outputs": [],
   "source": [
    "name_scale = [\"country\", \"zone\", \"language\", \"has_red\", \"has_green\", \"has_blue\", \"has_gold\", \"has_white\", \"has_black\", \"has_orange\", \"dominant_color\"]\n",
    "strong_scale = [\"square\", \"population\", \"vertical_count\", \"horizontal_count\",\"colors_count\"]\n",
    "order_scale = [\"continent_by_square\", \"continent_by_population\"]\n"
   ]
  },
  {
   "cell_type": "code",
   "execution_count": null,
   "metadata": {
    "id": "vC_R2U41k6Jl"
   },
   "outputs": [],
   "source": [
    "def calculate_strong_scale_dists(np_strong_scale_array):\n",
    "  \n",
    "  np_strong_scale_array = np_strong_scale_array[:,np.newaxis]\n",
    "  tmp_dists = np.zeros((np_strong_scale_array.shape[0], np_strong_scale_array.shape[0]), np.float)\n",
    "  \n",
    "  for i in range(np_strong_scale_array.shape[0]):\n",
    "     tmp_dists[i] = np.sum(np.abs(np_strong_scale_array - np_strong_scale_array[i]) / np.abs(np.max(np_strong_scale_array) - np.min(np_strong_scale_array)), axis = 1)  \n",
    "  \n",
    "  count_zero, count_minus_one, count_not_zero = 0, 0, 0\n",
    "  return list(tmp_dists)"
   ]
  },
  {
   "cell_type": "code",
   "execution_count": null,
   "metadata": {
    "id": "GKHFsGhBw-9z"
   },
   "outputs": [],
   "source": [
    "def calculate_name_scale_dists(np_name_scale_array):\n",
    "  tmp_dists = np.zeros((np_name_scale_array.shape[0], np_name_scale_array.shape[0]), np.float)\n",
    "  for i in range(np_name_scale_array.shape[0]):\n",
    "    for j in range(np_name_scale_array.shape[0]):\n",
    "      for k in range(np_name_scale_array.shape[0]):\n",
    "        if (((np_name_scale_array[i] == np_name_scale_array[k]) and (np_name_scale_array[j] != np_name_scale_array[k]))\n",
    "        or (np_name_scale_array[i] != np_name_scale_array[k]) and (np_name_scale_array[j] == np_name_scale_array[k])):\n",
    "          tmp_dists += 1.0\n",
    "  tmp_dists / np_name_scale_array.shape[0]\n",
    "  return list(tmp_dists)"
   ]
  },
  {
   "cell_type": "code",
   "execution_count": null,
   "metadata": {
    "id": "ZUs-TNNQxIcv"
   },
   "outputs": [],
   "source": [
    "def calculate_order_scale_dists(np_order_scale_array):\n",
    "  tmp_dists = np.zeros((np_order_scale_array.shape[0], np_order_scale_array.shape[0]), np.float)\n",
    "  for i in range(np_order_scale_array.shape[0]):\n",
    "    for j in range(np_order_scale_array.shape[0]):\n",
    "      for k in range(np_order_scale_array.shape[0]):\n",
    "\n",
    "        if (((np_order_scale_array[i] > np_order_scale_array[k]) and (np_order_scale_array[j] < np_order_scale_array[k]))\n",
    "        or ((np_order_scale_array[i] < np_order_scale_array[k]) and (np_order_scale_array[j] > np_order_scale_array[k]))):\n",
    "          tmp_dists += 1.0\n",
    "\n",
    "        elif (((np_order_scale_array[i] != np_order_scale_array[k]) and (np_order_scale_array[j] == np_order_scale_array[k]))\n",
    "        or ((np_order_scale_array[i] == np_order_scale_array[k]) and (np_order_scale_array[j] != np_order_scale_array[k]))):\n",
    "          tmp_dists += 0.5\n",
    "  tmp_dists / (np_order_scale_array.shape[0] - 1)\n",
    "  return list(tmp_dists)"
   ]
  },
  {
   "cell_type": "code",
   "execution_count": null,
   "metadata": {
    "id": "38ZNxG0oxIxX"
   },
   "outputs": [],
   "source": [
    "name_scale_dists = []\n",
    "for i in name_scale:\n",
    "  name_scale_dists.append(calculate_name_scale_dists(np.array(df_train[i])))\n",
    "\n",
    "order_scale_dists = []\n",
    "for i in order_scale:\n",
    "  order_scale_dists.append(calculate_order_scale_dists(df_train[i]))\n",
    "\n",
    "strong_scale_dists = []\n",
    "for i in strong_scale:\n",
    "  strong_scale_dists.append(calculate_strong_scale_dists(np.array(df_train[i])))\n"
   ]
  },
  {
   "cell_type": "code",
   "execution_count": null,
   "metadata": {
    "id": "hao--3eomGib"
   },
   "outputs": [],
   "source": [
    "for i in range(len(strong_scale)):\n",
    "  for j in range(df_train.shape[0]):\n",
    "    for k in range(df_train.shape[0]):\n",
    "      if (j == k):\n",
    "        assert strong_scale_dists[i][j][k] == 0.0\n",
    "      else:\n",
    "        assert strong_scale_dists[i][j][k] == strong_scale_dists[i][k][j]\n",
    "\n"
   ]
  },
  {
   "cell_type": "code",
   "execution_count": null,
   "metadata": {
    "colab": {
     "base_uri": "https://localhost:8080/",
     "height": 404
    },
    "id": "Ju1TOXfttw0i",
    "outputId": "439f7766-0704-4269-c914-5b20646cbc4c"
   },
   "outputs": [
    {
     "ename": "TypeError",
     "evalue": "ignored",
     "output_type": "error",
     "traceback": [
      "\u001b[0;31m---------------------------------------------------------------------------\u001b[0m",
      "\u001b[0;31mTypeError\u001b[0m                                 Traceback (most recent call last)",
      "\u001b[0;32m<ipython-input-14-d7b7cd4d2987>\u001b[0m in \u001b[0;36m<module>\u001b[0;34m()\u001b[0m\n\u001b[1;32m      4\u001b[0m   \u001b[0mnp_name_scale_dists\u001b[0m \u001b[0;34m=\u001b[0m \u001b[0mnp\u001b[0m\u001b[0;34m.\u001b[0m\u001b[0marray\u001b[0m\u001b[0;34m(\u001b[0m\u001b[0mname_scale_dists\u001b[0m\u001b[0;34m[\u001b[0m\u001b[0mi\u001b[0m\u001b[0;34m]\u001b[0m\u001b[0;34m)\u001b[0m\u001b[0;34m\u001b[0m\u001b[0;34m\u001b[0m\u001b[0m\n\u001b[1;32m      5\u001b[0m   \u001b[0mnp_name_scale_dists\u001b[0m \u001b[0;34m=\u001b[0m \u001b[0mnp\u001b[0m\u001b[0;34m.\u001b[0m\u001b[0mpower\u001b[0m\u001b[0;34m(\u001b[0m\u001b[0mnp_name_scale_dists\u001b[0m\u001b[0;34m,\u001b[0m \u001b[0;36m2\u001b[0m\u001b[0;34m)\u001b[0m\u001b[0;34m\u001b[0m\u001b[0;34m\u001b[0m\u001b[0m\n\u001b[0;32m----> 6\u001b[0;31m   \u001b[0mdists\u001b[0m \u001b[0;34m=\u001b[0m \u001b[0mnp\u001b[0m\u001b[0;34m.\u001b[0m\u001b[0msum\u001b[0m\u001b[0;34m(\u001b[0m\u001b[0mdists\u001b[0m\u001b[0;34m,\u001b[0m \u001b[0mnp_name_scale_dists\u001b[0m\u001b[0;34m)\u001b[0m\u001b[0;34m\u001b[0m\u001b[0;34m\u001b[0m\u001b[0m\n\u001b[0m\u001b[1;32m      7\u001b[0m \u001b[0;34m\u001b[0m\u001b[0m\n\u001b[1;32m      8\u001b[0m \u001b[0;31m# for i in range(len(order_scale)):\u001b[0m\u001b[0;34m\u001b[0m\u001b[0;34m\u001b[0m\u001b[0;34m\u001b[0m\u001b[0m\n",
      "\u001b[0;32m<__array_function__ internals>\u001b[0m in \u001b[0;36msum\u001b[0;34m(*args, **kwargs)\u001b[0m\n",
      "\u001b[0;32m/usr/local/lib/python3.6/dist-packages/numpy/core/fromnumeric.py\u001b[0m in \u001b[0;36msum\u001b[0;34m(a, axis, dtype, out, keepdims, initial, where)\u001b[0m\n\u001b[1;32m   2227\u001b[0m \u001b[0;34m\u001b[0m\u001b[0m\n\u001b[1;32m   2228\u001b[0m     return _wrapreduction(a, np.add, 'sum', axis, dtype, out, keepdims=keepdims,\n\u001b[0;32m-> 2229\u001b[0;31m                           initial=initial, where=where)\n\u001b[0m\u001b[1;32m   2230\u001b[0m \u001b[0;34m\u001b[0m\u001b[0m\n\u001b[1;32m   2231\u001b[0m \u001b[0;34m\u001b[0m\u001b[0m\n",
      "\u001b[0;32m/usr/local/lib/python3.6/dist-packages/numpy/core/fromnumeric.py\u001b[0m in \u001b[0;36m_wrapreduction\u001b[0;34m(obj, ufunc, method, axis, dtype, out, **kwargs)\u001b[0m\n\u001b[1;32m     88\u001b[0m                 \u001b[0;32mreturn\u001b[0m \u001b[0mreduction\u001b[0m\u001b[0;34m(\u001b[0m\u001b[0maxis\u001b[0m\u001b[0;34m=\u001b[0m\u001b[0maxis\u001b[0m\u001b[0;34m,\u001b[0m \u001b[0mout\u001b[0m\u001b[0;34m=\u001b[0m\u001b[0mout\u001b[0m\u001b[0;34m,\u001b[0m \u001b[0;34m**\u001b[0m\u001b[0mpasskwargs\u001b[0m\u001b[0;34m)\u001b[0m\u001b[0;34m\u001b[0m\u001b[0;34m\u001b[0m\u001b[0m\n\u001b[1;32m     89\u001b[0m \u001b[0;34m\u001b[0m\u001b[0m\n\u001b[0;32m---> 90\u001b[0;31m     \u001b[0;32mreturn\u001b[0m \u001b[0mufunc\u001b[0m\u001b[0;34m.\u001b[0m\u001b[0mreduce\u001b[0m\u001b[0;34m(\u001b[0m\u001b[0mobj\u001b[0m\u001b[0;34m,\u001b[0m \u001b[0maxis\u001b[0m\u001b[0;34m,\u001b[0m \u001b[0mdtype\u001b[0m\u001b[0;34m,\u001b[0m \u001b[0mout\u001b[0m\u001b[0;34m,\u001b[0m \u001b[0;34m**\u001b[0m\u001b[0mpasskwargs\u001b[0m\u001b[0;34m)\u001b[0m\u001b[0;34m\u001b[0m\u001b[0;34m\u001b[0m\u001b[0m\n\u001b[0m\u001b[1;32m     91\u001b[0m \u001b[0;34m\u001b[0m\u001b[0m\n\u001b[1;32m     92\u001b[0m \u001b[0;34m\u001b[0m\u001b[0m\n",
      "\u001b[0;31mTypeError\u001b[0m: only integer scalar arrays can be converted to a scalar index"
     ]
    }
   ],
   "source": [
    "dists = np.zeros((df_train.shape[0], df_train.shape[0]), np.float)\n",
    "\n",
    "for i in range(len(name_scale)):\n",
    "  np_name_scale_dists = np.array(name_scale_dists[i])\n",
    "  np_name_scale_dists = np.power(np_name_scale_dists, 2)\n",
    "  dists = np.sum(dists, np_name_scale_dists)\n",
    "\n",
    "# for i in range(len(order_scale)):\n",
    "#   np_order_scale_dists = np.array(order_scale_dists[i])\n",
    "#   dists = np.sum(dists, np.power(np_order_scale_dists, 2))\n",
    "\n",
    "# for i in range(len(order_scale)):\n",
    "#   np_strong_scale_dists = np.array(nstrong_scale_dists[i])\n",
    "#   dists = np.sum(dists, np.power(np_strong_scale_dists), 2)\n",
    "\n",
    "# n = len(name_scale) + len(order_scale) + len(strong_scale)\n",
    "# dists = 1/sqrt(n) * np.power(dists, 0.5)"
   ]
  }
 ],
 "metadata": {
  "colab": {
   "name": "PavlovLab1",
   "provenance": []
  },
  "kernelspec": {
   "display_name": "Python 3",
   "language": "python",
   "name": "python3"
  },
  "language_info": {
   "codemirror_mode": {
    "name": "ipython",
    "version": 3
   },
   "file_extension": ".py",
   "mimetype": "text/x-python",
   "name": "python",
   "nbconvert_exporter": "python",
   "pygments_lexer": "ipython3",
   "version": "3.7.4"
  }
 },
 "nbformat": 4,
 "nbformat_minor": 1
}
