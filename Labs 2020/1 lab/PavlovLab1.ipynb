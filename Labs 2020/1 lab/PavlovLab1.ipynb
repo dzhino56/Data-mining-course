{
  "nbformat": 4,
  "nbformat_minor": 0,
  "metadata": {
    "colab": {
      "name": "PavlovLab1",
      "provenance": []
    },
    "kernelspec": {
      "name": "python3",
      "display_name": "Python 3"
    }
  },
  "cells": [
    {
      "cell_type": "markdown",
      "metadata": {
        "id": "qw2fz6IsTueY"
      },
      "source": [
        "Следующие 2 ячейки выполнять не нужно. Они нужны лишь для работы в Google Colab"
      ]
    },
    {
      "cell_type": "code",
      "metadata": {
        "id": "PXgiTi7nTZU-",
        "outputId": "4f51c062-4559-4d49-e29f-3cf5fe8cd1d9",
        "colab": {
          "base_uri": "https://localhost:8080/",
          "height": 34
        }
      },
      "source": [
        "from google.colab import drive\n",
        "drive.mount('/content/drive')"
      ],
      "execution_count": 1,
      "outputs": [
        {
          "output_type": "stream",
          "text": [
            "Mounted at /content/drive\n"
          ],
          "name": "stdout"
        }
      ]
    },
    {
      "cell_type": "code",
      "metadata": {
        "id": "br0LV5vVT_ix",
        "outputId": "ad008894-8894-4ec5-fc95-4139ac06e2da",
        "colab": {
          "base_uri": "https://localhost:8080/",
          "height": 34
        }
      },
      "source": [
        "cd /content/drive/My Drive/Colab Notebooks/data"
      ],
      "execution_count": 1,
      "outputs": [
        {
          "output_type": "stream",
          "text": [
            "/content/drive/My Drive/Colab Notebooks/data\n"
          ],
          "name": "stdout"
        }
      ]
    },
    {
      "cell_type": "markdown",
      "metadata": {
        "id": "2Tam8xxPgA2E"
      },
      "source": [
        "Запускать можно код, начиная со следующей ячейки\n",
        "\n",
        "Подключаем библиотеки, загружаем csv файл\n",
        "\n"
      ]
    },
    {
      "cell_type": "code",
      "metadata": {
        "id": "geEi3wTfUDaa"
      },
      "source": [
        "import pandas as pd\n",
        "import numpy as np\n",
        "import math"
      ],
      "execution_count": 2,
      "outputs": []
    },
    {
      "cell_type": "code",
      "metadata": {
        "id": "X69LjA1VteoO"
      },
      "source": [
        "flags_descripts = [\"country\", \"zone\", \"square\", \"population\", \"continent_by_square\", \"continent_by_population\",\"language\",\"religion\",\n",
        "                   \"vertical_count\",\"horizontal_count\",\"colors_count\",\"has_red\",\"has_green\",\"has_blue\",\"has_gold\",\"has_white\",\n",
        "                   \"has_black\",\"has_orange\", \"dominant_color\"]"
      ],
      "execution_count": 3,
      "outputs": []
    },
    {
      "cell_type": "code",
      "metadata": {
        "id": "7uiNSf7gZOAo",
        "outputId": "fb783f4a-ba66-4444-b852-83a09426943f",
        "colab": {
          "base_uri": "https://localhost:8080/",
          "height": 34
        }
      },
      "source": [
        "df_train = pd.read_csv('Flags.csv', names=flags_descripts, sep=\";\")\n",
        "print(df_train.shape)"
      ],
      "execution_count": 4,
      "outputs": [
        {
          "output_type": "stream",
          "text": [
            "(194, 19)\n"
          ],
          "name": "stdout"
        }
      ]
    },
    {
      "cell_type": "code",
      "metadata": {
        "id": "SsHN8Te4ZksX",
        "outputId": "29ba2169-ef27-40af-d8c8-9217bd799c51",
        "colab": {
          "base_uri": "https://localhost:8080/",
          "height": 252
        }
      },
      "source": [
        "print(df_train)"
      ],
      "execution_count": 5,
      "outputs": [
        {
          "output_type": "stream",
          "text": [
            "            country  zone  square  ...  has_black  has_orange  dominant_color\n",
            "0       Afghanistan     1     648  ...          1           0           green\n",
            "1           Albania     1      29  ...          1           0             red\n",
            "2           Algeria     1    2388  ...          0           0           green\n",
            "3    American-Samoa     3       0  ...          0           1            blue\n",
            "4           Andorra     1       0  ...          0           0            gold\n",
            "..              ...   ...     ...  ...        ...         ...             ...\n",
            "189   Western-Samoa     3       3  ...          0           0             red\n",
            "190      Yugoslavia     1     256  ...          0           0             red\n",
            "191           Zaire     2     905  ...          0           1           green\n",
            "192          Zambia     2     753  ...          1           1           green\n",
            "193        Zimbabwe     2     391  ...          1           0           green\n",
            "\n",
            "[194 rows x 19 columns]\n"
          ],
          "name": "stdout"
        }
      ]
    },
    {
      "cell_type": "code",
      "metadata": {
        "id": "m_wxG9LNwtoi"
      },
      "source": [
        "name_scale = [\"country\", \"zone\", \"language\", \"has_red\", \"has_green\", \"has_blue\", \"has_gold\", \"has_white\", \"has_black\", \"has_orange\", \"dominant_color\"]\n",
        "strong_scale = [\"square\", \"population\", \"vertical_count\", \"horizontal_count\",\"colors_count\"]\n",
        "order_scale = [\"continent_by_square\", \"continent_by_population\"]\n"
      ],
      "execution_count": 6,
      "outputs": []
    },
    {
      "cell_type": "markdown",
      "metadata": {
        "id": "-eZKGyW8zPXR"
      },
      "source": [
        "Три функции для нахождения расстояния между признаками 2-х объектов"
      ]
    },
    {
      "cell_type": "code",
      "metadata": {
        "id": "q5lKcvLNzsMl"
      },
      "source": [
        "def strong_dist_2_obj(pos1, pos2, data) :\n",
        "  return abs(data[pos1] - data[pos2]) / abs(data.max() - data.min())"
      ],
      "execution_count": 7,
      "outputs": []
    },
    {
      "cell_type": "code",
      "metadata": {
        "id": "qL6BFy_dzrv-"
      },
      "source": [
        "def order_dist_2_obj(pos1, pos2, data) :\n",
        "  res = 0.0\n",
        "  for i in range(data.size) :\n",
        "    if ((data[pos1] < data[i] and  data[pos2] > data[i]) or\n",
        "        (data[pos1] > data[i] and  data[pos2] < data[i])) :\n",
        "        res += 1.0\n",
        "        continue\n",
        "    if ((data[pos1] != data[i] and  data[pos2] == data[i]) or\n",
        "        (data[pos1] == data[i] and  data[pos2] != data[i])) :\n",
        "          res += 0.5\n",
        "          continue\n",
        "  return res / (data.size - 1)"
      ],
      "execution_count": 8,
      "outputs": []
    },
    {
      "cell_type": "code",
      "metadata": {
        "id": "jnk4NrT4vEoP"
      },
      "source": [
        "def name_dist_2_obj(pos1, pos2, data) :\n",
        "  res = 0.0 \n",
        "  for i in range(data.size) :\n",
        "    if ((data[pos1] == data[i] and data[pos2] != data[i]) or\n",
        "        (data[pos1] != data[i] and  data[pos2] == data[i])) :\n",
        "      res += 1.0\n",
        "  return res / data.size"
      ],
      "execution_count": 9,
      "outputs": []
    },
    {
      "cell_type": "markdown",
      "metadata": {
        "id": "jEnPKYLv0Gh9"
      },
      "source": [
        "Функция нахождения расстояния между 2-мя объектами"
      ]
    },
    {
      "cell_type": "code",
      "metadata": {
        "id": "YbP61qEJvToE"
      },
      "source": [
        "def dist_between_2_obj(pos1, pos2, df_train):\n",
        "  dist = 0.\n",
        "  for i in df_train:\n",
        "    if (i in name_scale):\n",
        "      dist += math.pow(name_dist_2_obj(pos1, pos2, df_train[i]), 2)\n",
        "    if (i in strong_scale):\n",
        "      dist += math.pow(strong_dist_2_obj(pos1, pos2, df_train[i]), 2)\n",
        "    if (i in order_scale):\n",
        "      dist += math.pow(order_dist_2_obj(pos1, pos2, df_train[i]), 2)\n",
        "  return math.sqrt(dist / df_train.count(axis='rows').size)"
      ],
      "execution_count": 10,
      "outputs": []
    },
    {
      "cell_type": "code",
      "metadata": {
        "id": "DL0w1xrFwmKi",
        "outputId": "1649197c-5bd1-4718-eeff-568c005f7335",
        "colab": {
          "base_uri": "https://localhost:8080/",
          "height": 34
        }
      },
      "source": [
        "assert dist_between_2_obj(1, 1, df_train) == 0.0\n",
        "print(dist_between_2_obj(0, 1, df_train))"
      ],
      "execution_count": 11,
      "outputs": [
        {
          "output_type": "stream",
          "text": [
            "0.4151742795460787\n"
          ],
          "name": "stdout"
        }
      ]
    },
    {
      "cell_type": "markdown",
      "metadata": {
        "id": "3OEyptqf3RYu"
      },
      "source": [
        "Три функции для вычисления расстояния между объектами с учётом типов шкал"
      ]
    },
    {
      "cell_type": "code",
      "metadata": {
        "id": "vC_R2U41k6Jl"
      },
      "source": [
        "def calculate_strong_scale_dists(np_strong_scale_array, dists):\n",
        "  \n",
        "  np_strong_scale_array = np_strong_scale_array[:,np.newaxis]\n",
        "  \n",
        "  for i in range(np_strong_scale_array.shape[0]):\n",
        "     dists[i] = np.sum(np.abs(np_strong_scale_array - np_strong_scale_array[i]) / np.abs(np.max(np_strong_scale_array) - np.min(np_strong_scale_array)), axis = 1)  \n",
        "  "
      ],
      "execution_count": 12,
      "outputs": []
    },
    {
      "cell_type": "code",
      "metadata": {
        "id": "GKHFsGhBw-9z"
      },
      "source": [
        "def calculate_name_scale_dists(np_name_scale_array, dists):\n",
        "  \n",
        "  for i in range(np_name_scale_array.shape[0]):\n",
        "    for j in range(np_name_scale_array.shape[0]):\n",
        "      for k in range(np_name_scale_array.shape[0]):\n",
        "        if (((np_name_scale_array[i] == np_name_scale_array[k]) and (np_name_scale_array[j] != np_name_scale_array[k]))\n",
        "        or ((np_name_scale_array[i] != np_name_scale_array[k]) and (np_name_scale_array[j] == np_name_scale_array[k]))):\n",
        "          dists[i][j] += 1.0\n",
        "  dists /= np_name_scale_array.shape[0]"
      ],
      "execution_count": 13,
      "outputs": []
    },
    {
      "cell_type": "code",
      "metadata": {
        "id": "ZUs-TNNQxIcv"
      },
      "source": [
        "def calculate_order_scale_dists(np_order_scale_array, dists):\n",
        "  for i in range(np_order_scale_array.shape[0]):\n",
        "    for j in range(np_order_scale_array.shape[0]):\n",
        "      for k in range(np_order_scale_array.shape[0]):\n",
        "\n",
        "        if (((np_order_scale_array[i] > np_order_scale_array[k]) and (np_order_scale_array[j] < np_order_scale_array[k]))\n",
        "        or ((np_order_scale_array[i] < np_order_scale_array[k]) and (np_order_scale_array[j] > np_order_scale_array[k]))):\n",
        "          dists[i][j] += 1.0\n",
        "\n",
        "        elif (((np_order_scale_array[i] != np_order_scale_array[k]) and (np_order_scale_array[j] == np_order_scale_array[k]))\n",
        "        or ((np_order_scale_array[i] == np_order_scale_array[k]) and (np_order_scale_array[j] != np_order_scale_array[k]))):\n",
        "          dists[i][j] += 0.5\n",
        "  dists /= (np_order_scale_array.shape[0] - 1)"
      ],
      "execution_count": 14,
      "outputs": []
    },
    {
      "cell_type": "markdown",
      "metadata": {
        "id": "mRGiaO3F4e3O"
      },
      "source": [
        "Вызываем данные функции и получаем кучу матриц расстояний, которые необходимо просуммировать для получения попарного расстояния между объектами"
      ]
    },
    {
      "cell_type": "code",
      "metadata": {
        "id": "38ZNxG0oxIxX"
      },
      "source": [
        "np_name_scale_dists = np.zeros((len(name_scale), df_train.shape[0], df_train.shape[0]), np.float64)\n",
        "for i in name_scale:\n",
        "  calculate_name_scale_dists(np.array(df_train[i]), np_name_scale_dists[name_scale.index(i)])\n",
        "\n",
        "np_order_scale_dists = np.zeros((len(order_scale), df_train.shape[0], df_train.shape[0]), np.float64)\n",
        "for i in order_scale:\n",
        "   calculate_order_scale_dists(np.array(df_train[i]), np_order_scale_dists[order_scale.index(i)])\n",
        "\n",
        "np_strong_scale_dists = np.zeros((len(strong_scale), df_train.shape[0], df_train.shape[0]), np.float64)\n",
        "for i in strong_scale:\n",
        "   calculate_strong_scale_dists(np.array(df_train[i]), np_strong_scale_dists[strong_scale.index(i)])\n"
      ],
      "execution_count": 15,
      "outputs": []
    },
    {
      "cell_type": "markdown",
      "metadata": {
        "id": "sM2Ufixo7Jzo"
      },
      "source": [
        "Проверяем основные свойства метрик"
      ]
    },
    {
      "cell_type": "code",
      "metadata": {
        "id": "hao--3eomGib"
      },
      "source": [
        "for j in range(df_train.shape[0]): \n",
        "  for k in range(df_train.shape[0]):\n",
        "    for i in range(len(strong_scale)):\n",
        "      if (j == k):\n",
        "        assert np_strong_scale_dists[i][j][k] == 0.0\n",
        "      else:\n",
        "        assert np_strong_scale_dists[i][j][k] == np_strong_scale_dists[i][k][j]\n",
        "    for i in range(len(name_scale)):\n",
        "      if (j == k):\n",
        "        assert np_name_scale_dists[i][j][k] == 0.0\n",
        "      else:\n",
        "        assert np_name_scale_dists[i][j][k] == np_name_scale_dists[i][k][j]\n",
        "    for i in range(len(order_scale)):\n",
        "      if (j == k):\n",
        "        assert np_order_scale_dists[i][j][k] == 0.0\n",
        "      else:\n",
        "        assert np_order_scale_dists[i][j][k] == np_order_scale_dists[i][k][j]\n"
      ],
      "execution_count": 16,
      "outputs": []
    },
    {
      "cell_type": "markdown",
      "metadata": {
        "id": "fzNYJCfC21Gf"
      },
      "source": [
        "Вычисление попарного расстояния между объектами"
      ]
    },
    {
      "cell_type": "code",
      "metadata": {
        "id": "Ju1TOXfttw0i",
        "outputId": "fa741ac8-243b-4745-f69e-9a2aac0e1189",
        "colab": {
          "base_uri": "https://localhost:8080/",
          "height": 134
        }
      },
      "source": [
        "dists = np.zeros((df_train.shape[0], df_train.shape[0]), np.float64)\n",
        "\n",
        "for i in range(len(name_scale)):\n",
        "  dists += np.power(np_name_scale_dists[i], 2)\n",
        "\n",
        "for i in range(len(order_scale)):\n",
        "  dists += np.power(np_order_scale_dists[i], 2)\n",
        "\n",
        "for i in range(len(strong_scale)):\n",
        "  dists += np.power(np_strong_scale_dists[i], 2)\n",
        "\n",
        "n = len(name_scale) + len(order_scale) + len(strong_scale)\n",
        "dists = math.sqrt(1/n) * np.power(dists,0.5)\n",
        "print (dists)"
      ],
      "execution_count": 17,
      "outputs": [
        {
          "output_type": "stream",
          "text": [
            "[[0.         0.42655102 0.37395208 ... 0.44475186 0.46668589 0.17883936]\n",
            " [0.42655102 0.         0.51571292 ... 0.47788556 0.49831116 0.43589684]\n",
            " [0.37395208 0.51571292 0.         ... 0.45214499 0.44477872 0.40788746]\n",
            " ...\n",
            " [0.44475186 0.47788556 0.45214499 ... 0.         0.36214091 0.42631721]\n",
            " [0.46668589 0.49831116 0.44477872 ... 0.36214091 0.         0.44912133]\n",
            " [0.17883936 0.43589684 0.40788746 ... 0.42631721 0.44912133 0.        ]]\n"
          ],
          "name": "stdout"
        }
      ]
    },
    {
      "cell_type": "markdown",
      "metadata": {
        "id": "sOljtgsU3IH-"
      },
      "source": [
        "Находим объект, суммарное расстояние до которого от всех остальных объектов максимально."
      ]
    },
    {
      "cell_type": "code",
      "metadata": {
        "id": "uQEL0AsUwDnK",
        "outputId": "2cd55ab2-78c3-4d5a-bd98-37ea63452d53",
        "colab": {
          "base_uri": "https://localhost:8080/",
          "height": 50
        }
      },
      "source": [
        "np_summary_dists = np.zeros(dists.shape[0], np.float64)\n",
        "np_summary_dists = np.sum(dists, axis = 1)\n",
        "max = np.max(np_summary_dists)\n",
        "print(max)\n",
        "print(np_summary_dists.tolist().index(max))"
      ],
      "execution_count": 18,
      "outputs": [
        {
          "output_type": "stream",
          "text": [
            "105.40089193430285\n",
            "157\n"
          ],
          "name": "stdout"
        }
      ]
    },
    {
      "cell_type": "markdown",
      "metadata": {
        "id": "NaH1NjH5kGOQ"
      },
      "source": [
        "Функция, считающая расстояние между 2 порядковыми признаками"
      ]
    },
    {
      "cell_type": "code",
      "metadata": {
        "id": "DjY0yOmrkDyK"
      },
      "source": [
        "def features_dists(feature_name1, feature_name2, df_train) :\n",
        "  ord_feat1 = df_train[feature_name1]\n",
        "  ord_feat2 = df_train[feature_name2]\n",
        "  size = df_train.shape[0]\n",
        "  res = 0.0\n",
        "  for i in range(size) : \n",
        "    for j in range(i, size) :\n",
        "      if ((ord_feat1[i] > ord_feat1[j] and ord_feat2[i] < ord_feat2[j]) or\n",
        "          (ord_feat1[i] < ord_feat1[j] and ord_feat2[i] > ord_feat2[j])):\n",
        "        res += 1.0\n",
        "      if ((ord_feat1[i] != ord_feat1[j] and ord_feat2[i] == ord_feat2[j]) or\n",
        "          (ord_feat1[i] == ord_feat1[j] and ord_feat2[i] != ord_feat2[j])):\n",
        "        res += 0.5\n",
        "  return res / ((size - 1) * size / 2) "
      ],
      "execution_count": 19,
      "outputs": []
    },
    {
      "cell_type": "code",
      "metadata": {
        "id": "bHKUbk8x2ynl",
        "outputId": "4616acdd-4883-4a13-9fce-e4f389a1a0b2",
        "colab": {
          "base_uri": "https://localhost:8080/",
          "height": 34
        }
      },
      "source": [
        "print(features_dists(\"continent_by_square\", \"continent_by_population\", df_train))"
      ],
      "execution_count": 20,
      "outputs": [
        {
          "output_type": "stream",
          "text": [
            "0.08973879600448693\n"
          ],
          "name": "stdout"
        }
      ]
    }
  ]
}