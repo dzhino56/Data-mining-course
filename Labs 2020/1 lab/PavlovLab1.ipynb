{
 "cells": [
  {
   "cell_type": "markdown",
   "metadata": {
    "id": "qw2fz6IsTueY"
   },
   "source": [
    "Следующие 2 ячейки выполнять не нужно. Они нужны лишь для работы в Google Colab"
   ]
  },
  {
   "cell_type": "code",
   "execution_count": null,
   "metadata": {
    "colab": {
     "base_uri": "https://localhost:8080/",
     "height": 34
    },
    "id": "PXgiTi7nTZU-",
    "outputId": "21c1a5ea-b7fb-4b2d-8b58-cc2715ac8d5f"
   },
   "outputs": [
    {
     "name": "stdout",
     "output_type": "stream",
     "text": [
      "Mounted at /content/drive\n"
     ]
    }
   ],
   "source": [
    "# from google.colab import drive\n",
    "# drive.mount('/content/drive')"
   ]
  },
  {
   "cell_type": "code",
   "execution_count": null,
   "metadata": {
    "colab": {
     "base_uri": "https://localhost:8080/",
     "height": 34
    },
    "id": "br0LV5vVT_ix",
    "outputId": "3b43ce9b-dfee-4aae-d722-955264119763"
   },
   "outputs": [
    {
     "name": "stdout",
     "output_type": "stream",
     "text": [
      "/content/drive/My Drive/Colab Notebooks/data\n"
     ]
    }
   ],
   "source": [
    "# cd /content/drive/My Drive/Colab Notebooks/data"
   ]
  },
  {
   "cell_type": "markdown",
   "metadata": {
    "id": "2Tam8xxPgA2E"
   },
   "source": [
    "Запускать можно код, начиная со следующей ячейки"
   ]
  },
  {
   "cell_type": "code",
   "execution_count": 1,
   "metadata": {
    "id": "geEi3wTfUDaa"
   },
   "outputs": [],
   "source": [
    "import pandas as pd\n",
    "import numpy as np"
   ]
  },
  {
   "cell_type": "code",
   "execution_count": 2,
   "metadata": {
    "id": "X69LjA1VteoO"
   },
   "outputs": [],
   "source": [
    "flags_descripts = [\"country\", \"zone\", \"square\", \"population\", \"continent_by_square\", \"continent_by_population\",\"language\",\"religion\",\n",
    "                   \"vertical_count\",\"horizontal_count\",\"colors_count\",\"has_red\",\"has_green\",\"has_blue\",\"has_gold\",\"has_white\",\n",
    "                   \"has_black\",\"has_orange\", \"dominant_color\"]"
   ]
  },
  {
   "cell_type": "code",
   "execution_count": 3,
   "metadata": {
    "colab": {
     "base_uri": "https://localhost:8080/",
     "height": 34
    },
    "id": "7uiNSf7gZOAo",
    "outputId": "4d0eab91-0346-4d5f-d64f-50fd1a631354"
   },
   "outputs": [
    {
     "name": "stdout",
     "output_type": "stream",
     "text": [
      "(194, 19)\n"
     ]
    }
   ],
   "source": [
    "df_train = pd.read_csv('Flags.csv', names=flags_descripts, sep=\";\")\n",
    "print (df_train.shape)"
   ]
  },
  {
   "cell_type": "code",
   "execution_count": 4,
   "metadata": {
    "colab": {
     "base_uri": "https://localhost:8080/",
     "height": 455
    },
    "id": "SsHN8Te4ZksX",
    "outputId": "230b4175-d5a1-4b5e-8310-020a6294eff4"
   },
   "outputs": [
    {
     "name": "stdout",
     "output_type": "stream",
     "text": [
      "                  country  zone  square  population  continent_by_square  \\\n",
      "0             Afghanistan     1     648          16                    1   \n",
      "1                 Albania     1      29           3                    5   \n",
      "2                 Algeria     1    2388          20                    2   \n",
      "3          American-Samoa     3       0           0                    6   \n",
      "4                 Andorra     1       0           0                    5   \n",
      "5                  Angola     2    1247           7                    2   \n",
      "6                Anguilla     4       0           0                    3   \n",
      "7         Antigua-Barbuda     4       0           0                    3   \n",
      "8               Argentina     3    2777          28                    4   \n",
      "9               Argentine     3    2777          28                    4   \n",
      "10              Australia     2    7690          15                    6   \n",
      "11                Austria     1      84           8                    5   \n",
      "12                Bahamas     4      19           0                    3   \n",
      "13                Bahrain     1       1           0                    1   \n",
      "14             Bangladesh     1     143          90                    1   \n",
      "15               Barbados     4       0           0                    3   \n",
      "16                Belgium     1      31          10                    5   \n",
      "17                 Belize     4      23           0                    3   \n",
      "18                  Benin     1     113           3                    2   \n",
      "19                Bermuda     4       0           0                    3   \n",
      "20                 Bhutan     1      47           1                    1   \n",
      "21                Bolivia     3    1099           6                    4   \n",
      "22               Botswana     2     600           1                    2   \n",
      "23                 Brazil     3    8512         119                    4   \n",
      "24   British-Virgin-Isles     4       0           0                    3   \n",
      "25                 Brunei     1       6           0                    1   \n",
      "26               Bulgaria     1     111           9                    5   \n",
      "27                Burkina     4     274           7                    2   \n",
      "28                  Burma     1     678          35                    1   \n",
      "29                Burundi     2      28           4                    2   \n",
      "..                    ...   ...     ...         ...                  ...   \n",
      "164             Swaziland     2      17           1                    2   \n",
      "165                Sweden     1     450           8                    5   \n",
      "166           Switzerland     1      41           6                    5   \n",
      "167                 Syria     1     185          10                    1   \n",
      "168                Taiwan     1      36          18                    1   \n",
      "169              Tanzania     2     945          18                    2   \n",
      "170              Thailand     1     514          49                    1   \n",
      "171                  Togo     1      57           2                    2   \n",
      "172                 Tonga     2       1           0                    6   \n",
      "173       Trinidad-Tobago     4       5           1                    4   \n",
      "174               Tunisia     1     164           7                    2   \n",
      "175                Turkey     1     781          45                    1   \n",
      "176   Turks-Cocos-Islands     4       0           0                    3   \n",
      "177                Tuvalu     2       0           0                    6   \n",
      "178                   UAE     1      84           1                    1   \n",
      "179                Uganda     1     236          13                    2   \n",
      "180                    UK     4     245          56                    5   \n",
      "181               Uruguay     3     178           3                    4   \n",
      "182                   USA     4    9363         231                    3   \n",
      "183                  USSR     1   22402         274                    1   \n",
      "184       US-Virgin-Isles     4       0           0                    3   \n",
      "185               Vanuatu     2      15           0                    6   \n",
      "186          Vatican-City     1       0           0                    5   \n",
      "187             Venezuela     4     912          15                    4   \n",
      "188               Vietnam     1     333          60                    1   \n",
      "189         Western-Samoa     3       3           0                    6   \n",
      "190            Yugoslavia     1     256          22                    5   \n",
      "191                 Zaire     2     905          28                    2   \n",
      "192                Zambia     2     753           6                    2   \n",
      "193              Zimbabwe     2     391           8                    2   \n",
      "\n",
      "     continent_by_population  language  religion  vertical_count  \\\n",
      "0                          1        10         2               0   \n",
      "1                          3         6         6               0   \n",
      "2                          2         8         2               2   \n",
      "3                          6         1         1               0   \n",
      "4                          3         6         0               3   \n",
      "5                          2        10         5               0   \n",
      "6                          4         1         1               0   \n",
      "7                          4         1         1               0   \n",
      "8                          5         2         0               0   \n",
      "9                          5         2         0               0   \n",
      "10                         6         1         1               0   \n",
      "11                         3         4         0               0   \n",
      "12                         4         1         1               0   \n",
      "13                         1         8         2               0   \n",
      "14                         1         6         2               0   \n",
      "15                         4         1         1               3   \n",
      "16                         3         6         0               3   \n",
      "17                         4         1         1               0   \n",
      "18                         2         3         5               0   \n",
      "19                         4         1         1               0   \n",
      "20                         1        10         3               0   \n",
      "21                         5         2         0               0   \n",
      "22                         2        10         5               0   \n",
      "23                         5         6         0               0   \n",
      "24                         4         1         1               0   \n",
      "25                         1        10         2               0   \n",
      "26                         3         5         6               0   \n",
      "27                         2         3         5               0   \n",
      "28                         1        10         3               0   \n",
      "29                         2        10         5               0   \n",
      "..                       ...       ...       ...             ...   \n",
      "164                        2        10         1               0   \n",
      "165                        3         6         1               0   \n",
      "166                        3         4         1               0   \n",
      "167                        1         8         2               0   \n",
      "168                        1         7         3               0   \n",
      "169                        2        10         5               0   \n",
      "170                        1        10         3               0   \n",
      "171                        2         3         7               0   \n",
      "172                        6        10         1               0   \n",
      "173                        5         1         1               0   \n",
      "174                        2         8         2               0   \n",
      "175                        1         9         2               0   \n",
      "176                        4         1         1               0   \n",
      "177                        6         1         1               0   \n",
      "178                        1         8         2               1   \n",
      "179                        2        10         5               0   \n",
      "180                        3         1         1               0   \n",
      "181                        5         2         0               0   \n",
      "182                        4         1         1               0   \n",
      "183                        1         5         6               0   \n",
      "184                        4         1         1               0   \n",
      "185                        6         6         1               0   \n",
      "186                        3         6         0               2   \n",
      "187                        5         2         0               0   \n",
      "188                        1        10         6               0   \n",
      "189                        6         1         1               0   \n",
      "190                        3         6         6               0   \n",
      "191                        2        10         5               0   \n",
      "192                        2        10         5               3   \n",
      "193                        2        10         5               0   \n",
      "\n",
      "     horizontal_count  colors_count  has_red  has_green  has_blue  has_gold  \\\n",
      "0                   3             5        1          1         0         1   \n",
      "1                   0             3        1          0         0         1   \n",
      "2                   0             3        1          1         0         0   \n",
      "3                   0             5        1          0         1         1   \n",
      "4                   0             3        1          0         1         1   \n",
      "5                   2             3        1          0         0         1   \n",
      "6                   1             3        0          0         1         0   \n",
      "7                   1             5        1          0         1         1   \n",
      "8                   3             2        0          0         1         0   \n",
      "9                   3             3        0          0         1         1   \n",
      "10                  0             3        1          0         1         0   \n",
      "11                  3             2        1          0         0         0   \n",
      "12                  3             3        0          0         1         1   \n",
      "13                  0             2        1          0         0         0   \n",
      "14                  0             2        1          1         0         0   \n",
      "15                  0             3        0          0         1         1   \n",
      "16                  0             3        1          0         0         1   \n",
      "17                  2             8        1          1         1         1   \n",
      "18                  0             2        1          1         0         0   \n",
      "19                  0             6        1          1         1         1   \n",
      "20                  0             4        1          0         0         0   \n",
      "21                  3             3        1          1         0         1   \n",
      "22                  5             3        0          0         1         0   \n",
      "23                  0             4        0          1         1         1   \n",
      "24                  0             6        1          1         1         1   \n",
      "25                  0             4        1          0         0         1   \n",
      "26                  3             5        1          1         1         1   \n",
      "27                  2             3        1          1         0         1   \n",
      "28                  0             3        1          0         1         0   \n",
      "29                  0             3        1          1         0         0   \n",
      "..                ...           ...      ...        ...       ...       ...   \n",
      "164                 5             7        1          0         1         1   \n",
      "165                 0             2        0          0         1         1   \n",
      "166                 0             2        1          0         0         0   \n",
      "167                 3             4        1          1         0         0   \n",
      "168                 0             3        1          0         1         0   \n",
      "169                 0             4        0          1         1         1   \n",
      "170                 5             3        1          0         1         0   \n",
      "171                 5             4        1          1         0         1   \n",
      "172                 0             2        1          0         0         0   \n",
      "173                 0             3        1          0         0         0   \n",
      "174                 0             2        1          0         0         0   \n",
      "175                 0             2        1          0         0         0   \n",
      "176                 0             6        1          1         1         1   \n",
      "177                 0             5        1          0         1         1   \n",
      "178                 3             4        1          1         0         0   \n",
      "179                 6             5        1          0         0         1   \n",
      "180                 0             3        1          0         1         0   \n",
      "181                 9             3        0          0         1         1   \n",
      "182                13             3        1          0         1         0   \n",
      "183                 0             2        1          0         0         1   \n",
      "184                 0             6        1          1         1         1   \n",
      "185                 0             4        1          1         0         1   \n",
      "186                 0             4        1          0         0         1   \n",
      "187                 3             7        1          1         1         1   \n",
      "188                 0             2        1          0         0         1   \n",
      "189                 0             3        1          0         1         0   \n",
      "190                 3             4        1          0         1         1   \n",
      "191                 0             4        1          1         0         1   \n",
      "192                 0             4        1          1         0         0   \n",
      "193                 7             5        1          1         0         1   \n",
      "\n",
      "     has_white  has_black  has_orange dominant_color  \n",
      "0            1          1           0          green  \n",
      "1            0          1           0            red  \n",
      "2            1          0           0          green  \n",
      "3            1          0           1           blue  \n",
      "4            0          0           0           gold  \n",
      "5            0          1           0            red  \n",
      "6            1          0           1          white  \n",
      "7            1          1           0            red  \n",
      "8            1          0           0           blue  \n",
      "9            1          0           0           blue  \n",
      "10           1          0           0           blue  \n",
      "11           1          0           0            red  \n",
      "12           0          1           0           blue  \n",
      "13           1          0           0            red  \n",
      "14           0          0           0          green  \n",
      "15           0          1           0           blue  \n",
      "16           0          1           0           gold  \n",
      "17           1          1           1           blue  \n",
      "18           0          0           0          green  \n",
      "19           1          1           0            red  \n",
      "20           1          1           1         orange  \n",
      "21           0          0           0            red  \n",
      "22           1          1           0           blue  \n",
      "23           1          0           0          green  \n",
      "24           1          0           1           blue  \n",
      "25           1          1           0           gold  \n",
      "26           1          0           0            red  \n",
      "27           0          0           0            red  \n",
      "28           1          0           0            red  \n",
      "29           1          0           0            red  \n",
      "..         ...        ...         ...            ...  \n",
      "164          1          1           1           blue  \n",
      "165          0          0           0           blue  \n",
      "166          1          0           0            red  \n",
      "167          1          1           0            red  \n",
      "168          1          0           0            red  \n",
      "169          0          1           0          green  \n",
      "170          1          0           0            red  \n",
      "171          1          0           0          green  \n",
      "172          1          0           0            red  \n",
      "173          1          1           0            red  \n",
      "174          1          0           0            red  \n",
      "175          1          0           0            red  \n",
      "176          1          0           1           blue  \n",
      "177          1          0           0           blue  \n",
      "178          1          1           0          green  \n",
      "179          1          1           0           gold  \n",
      "180          1          0           0            red  \n",
      "181          1          0           0          white  \n",
      "182          1          0           0          white  \n",
      "183          0          0           0            red  \n",
      "184          1          0           0          white  \n",
      "185          0          1           0            red  \n",
      "186          1          1           0           gold  \n",
      "187          1          1           1            red  \n",
      "188          0          0           0            red  \n",
      "189          1          0           0            red  \n",
      "190          1          0           0            red  \n",
      "191          0          0           1          green  \n",
      "192          0          1           1          green  \n",
      "193          1          1           0          green  \n",
      "\n",
      "[194 rows x 19 columns]\n"
     ]
    }
   ],
   "source": [
    "print (df_train)"
   ]
  },
  {
   "cell_type": "code",
   "execution_count": 5,
   "metadata": {
    "id": "m_wxG9LNwtoi"
   },
   "outputs": [],
   "source": [
    "name_scale = [\"country\", \"zone\", \"language\", \"has_red\", \"has_green\", \"has_blue\", \"has_gold\", \"has_white\", \"has_black\", \"has_orange\", \"dominant_color\"]\n",
    "strong_scale = [\"square\", \"population\", \"vertical_count\", \"horizontal_count\",\"colors_count\"]\n",
    "order_scale = [\"continent_by_square\", \"continent_by_population\"]\n"
   ]
  },
  {
   "cell_type": "code",
   "execution_count": 6,
   "metadata": {
    "id": "vC_R2U41k6Jl"
   },
   "outputs": [],
   "source": [
    "def calculate_strong_scale_dists(np_strong_scale_array):\n",
    "  \n",
    "  np_strong_scale_array = np_strong_scale_array[:,np.newaxis]\n",
    "  tmp_dists = np.zeros((np_strong_scale_array.shape[0], np_strong_scale_array.shape[0]), np.float)\n",
    "  \n",
    "  for i in range(np_strong_scale_array.shape[0]):\n",
    "     tmp_dists[i] = np.sum(np.abs(np_strong_scale_array - np_strong_scale_array[i]) / np.abs(np.max(np_strong_scale_array) - np.min(np_strong_scale_array)), axis = 1)  \n",
    "\n",
    "  return list(tmp_dists)"
   ]
  },
  {
   "cell_type": "code",
   "execution_count": 7,
   "metadata": {
    "id": "GKHFsGhBw-9z"
   },
   "outputs": [],
   "source": [
    "def calculate_name_scale_dists(np_name_scale_array):\n",
    "  tmp_dists = np.zeros((np_name_scale_array.shape[0], np_name_scale_array.shape[0]), np.float)\n",
    "  for i in range(np_name_scale_array.shape[0]):\n",
    "    for j in range(np_name_scale_array.shape[0]):\n",
    "      for k in range(np_name_scale_array.shape[0]):\n",
    "        if (((np_name_scale_array[i] == np_name_scale_array[k]) and (np_name_scale_array[j] != np_name_scale_array[k]))\n",
    "        or (np_name_scale_array[i] != np_name_scale_array[k]) and (np_name_scale_array[j] == np_name_scale_array[k])):\n",
    "          tmp_dists += 1.0\n",
    "  tmp_dists / np_name_scale_array.shape[0]\n",
    "  return list(tmp_dists)"
   ]
  },
  {
   "cell_type": "code",
   "execution_count": 8,
   "metadata": {
    "id": "ZUs-TNNQxIcv"
   },
   "outputs": [],
   "source": [
    "def calculate_order_scale_dists(np_order_scale_array):\n",
    "  tmp_dists = np.zeros((np_order_scale_array.shape[0], np_order_scale_array.shape[0]), np.float)\n",
    "  for i in range(np_order_scale_array.shape[0]):\n",
    "    for j in range(np_order_scale_array.shape[0]):\n",
    "      for k in range(np_order_scale_array.shape[0]):\n",
    "\n",
    "        if (((np_order_scale_array[i] > np_order_scale_array[k]) and (np_order_scale_array[j] < np_order_scale_array[k]))\n",
    "        or ((np_order_scale_array[i] < np_order_scale_array[k]) and (np_order_scale_array[j] > np_order_scale_array[k]))):\n",
    "          tmp_dists += 1.0\n",
    "\n",
    "        elif (((np_order_scale_array[i] != np_order_scale_array[k]) and (np_order_scale_array[j] == np_order_scale_array[k]))\n",
    "        or ((np_order_scale_array[i] == np_order_scale_array[k]) and (np_order_scale_array[j] != np_order_scale_array[k]))):\n",
    "          tmp_dists += 0.5\n",
    "  tmp_dists / (np_order_scale_array.shape[0] - 1)\n",
    "  return list(tmp_dists)"
   ]
  },
  {
   "cell_type": "code",
   "execution_count": null,
   "metadata": {
    "id": "38ZNxG0oxIxX"
   },
   "outputs": [],
   "source": [
    "name_scale_dists = []\n",
    "for i in name_scale:\n",
    "  name_scale_dists.append(calculate_name_scale_dists(np.array(df_train[i])))\n",
    "\n",
    "order_scale_dists = []\n",
    "for i in order_scale:\n",
    "  order_scale_dists.append(calculate_order_scale_dists(df_train[i]))\n",
    "\n",
    "strong_scale_dists = []\n",
    "for i in strong_scale:\n",
    "  strong_scale_dists.append(calculate_strong_scale_dists(np.array(df_train[i])))\n"
   ]
  },
  {
   "cell_type": "code",
   "execution_count": null,
   "metadata": {
    "id": "hao--3eomGib"
   },
   "outputs": [],
   "source": [
    "for i in range(len(strong_scale)):\n",
    "  for j in range(df_train.shape[0]):\n",
    "    for k in range(df_train.shape[0]):\n",
    "      if (j == k):\n",
    "        assert strong_scale_dists[i][j][k] == 0.0\n",
    "      else:\n",
    "        assert strong_scale_dists[i][j][k] == strong_scale_dists[i][k][j]\n",
    "\n"
   ]
  },
  {
   "cell_type": "code",
   "execution_count": null,
   "metadata": {
    "colab": {
     "base_uri": "https://localhost:8080/",
     "height": 404
    },
    "id": "Ju1TOXfttw0i",
    "outputId": "439f7766-0704-4269-c914-5b20646cbc4c"
   },
   "outputs": [
    {
     "ename": "TypeError",
     "evalue": "ignored",
     "output_type": "error",
     "traceback": [
      "\u001b[0;31m---------------------------------------------------------------------------\u001b[0m",
      "\u001b[0;31mTypeError\u001b[0m                                 Traceback (most recent call last)",
      "\u001b[0;32m<ipython-input-14-d7b7cd4d2987>\u001b[0m in \u001b[0;36m<module>\u001b[0;34m()\u001b[0m\n\u001b[1;32m      4\u001b[0m   \u001b[0mnp_name_scale_dists\u001b[0m \u001b[0;34m=\u001b[0m \u001b[0mnp\u001b[0m\u001b[0;34m.\u001b[0m\u001b[0marray\u001b[0m\u001b[0;34m(\u001b[0m\u001b[0mname_scale_dists\u001b[0m\u001b[0;34m[\u001b[0m\u001b[0mi\u001b[0m\u001b[0;34m]\u001b[0m\u001b[0;34m)\u001b[0m\u001b[0;34m\u001b[0m\u001b[0;34m\u001b[0m\u001b[0m\n\u001b[1;32m      5\u001b[0m   \u001b[0mnp_name_scale_dists\u001b[0m \u001b[0;34m=\u001b[0m \u001b[0mnp\u001b[0m\u001b[0;34m.\u001b[0m\u001b[0mpower\u001b[0m\u001b[0;34m(\u001b[0m\u001b[0mnp_name_scale_dists\u001b[0m\u001b[0;34m,\u001b[0m \u001b[0;36m2\u001b[0m\u001b[0;34m)\u001b[0m\u001b[0;34m\u001b[0m\u001b[0;34m\u001b[0m\u001b[0m\n\u001b[0;32m----> 6\u001b[0;31m   \u001b[0mdists\u001b[0m \u001b[0;34m=\u001b[0m \u001b[0mnp\u001b[0m\u001b[0;34m.\u001b[0m\u001b[0msum\u001b[0m\u001b[0;34m(\u001b[0m\u001b[0mdists\u001b[0m\u001b[0;34m,\u001b[0m \u001b[0mnp_name_scale_dists\u001b[0m\u001b[0;34m)\u001b[0m\u001b[0;34m\u001b[0m\u001b[0;34m\u001b[0m\u001b[0m\n\u001b[0m\u001b[1;32m      7\u001b[0m \u001b[0;34m\u001b[0m\u001b[0m\n\u001b[1;32m      8\u001b[0m \u001b[0;31m# for i in range(len(order_scale)):\u001b[0m\u001b[0;34m\u001b[0m\u001b[0;34m\u001b[0m\u001b[0;34m\u001b[0m\u001b[0m\n",
      "\u001b[0;32m<__array_function__ internals>\u001b[0m in \u001b[0;36msum\u001b[0;34m(*args, **kwargs)\u001b[0m\n",
      "\u001b[0;32m/usr/local/lib/python3.6/dist-packages/numpy/core/fromnumeric.py\u001b[0m in \u001b[0;36msum\u001b[0;34m(a, axis, dtype, out, keepdims, initial, where)\u001b[0m\n\u001b[1;32m   2227\u001b[0m \u001b[0;34m\u001b[0m\u001b[0m\n\u001b[1;32m   2228\u001b[0m     return _wrapreduction(a, np.add, 'sum', axis, dtype, out, keepdims=keepdims,\n\u001b[0;32m-> 2229\u001b[0;31m                           initial=initial, where=where)\n\u001b[0m\u001b[1;32m   2230\u001b[0m \u001b[0;34m\u001b[0m\u001b[0m\n\u001b[1;32m   2231\u001b[0m \u001b[0;34m\u001b[0m\u001b[0m\n",
      "\u001b[0;32m/usr/local/lib/python3.6/dist-packages/numpy/core/fromnumeric.py\u001b[0m in \u001b[0;36m_wrapreduction\u001b[0;34m(obj, ufunc, method, axis, dtype, out, **kwargs)\u001b[0m\n\u001b[1;32m     88\u001b[0m                 \u001b[0;32mreturn\u001b[0m \u001b[0mreduction\u001b[0m\u001b[0;34m(\u001b[0m\u001b[0maxis\u001b[0m\u001b[0;34m=\u001b[0m\u001b[0maxis\u001b[0m\u001b[0;34m,\u001b[0m \u001b[0mout\u001b[0m\u001b[0;34m=\u001b[0m\u001b[0mout\u001b[0m\u001b[0;34m,\u001b[0m \u001b[0;34m**\u001b[0m\u001b[0mpasskwargs\u001b[0m\u001b[0;34m)\u001b[0m\u001b[0;34m\u001b[0m\u001b[0;34m\u001b[0m\u001b[0m\n\u001b[1;32m     89\u001b[0m \u001b[0;34m\u001b[0m\u001b[0m\n\u001b[0;32m---> 90\u001b[0;31m     \u001b[0;32mreturn\u001b[0m \u001b[0mufunc\u001b[0m\u001b[0;34m.\u001b[0m\u001b[0mreduce\u001b[0m\u001b[0;34m(\u001b[0m\u001b[0mobj\u001b[0m\u001b[0;34m,\u001b[0m \u001b[0maxis\u001b[0m\u001b[0;34m,\u001b[0m \u001b[0mdtype\u001b[0m\u001b[0;34m,\u001b[0m \u001b[0mout\u001b[0m\u001b[0;34m,\u001b[0m \u001b[0;34m**\u001b[0m\u001b[0mpasskwargs\u001b[0m\u001b[0;34m)\u001b[0m\u001b[0;34m\u001b[0m\u001b[0;34m\u001b[0m\u001b[0m\n\u001b[0m\u001b[1;32m     91\u001b[0m \u001b[0;34m\u001b[0m\u001b[0m\n\u001b[1;32m     92\u001b[0m \u001b[0;34m\u001b[0m\u001b[0m\n",
      "\u001b[0;31mTypeError\u001b[0m: only integer scalar arrays can be converted to a scalar index"
     ]
    }
   ],
   "source": [
    "dists = np.zeros((df_train.shape[0], df_train.shape[0]), np.float)\n",
    "\n",
    "for i in range(len(name_scale)):\n",
    "  np_name_scale_dists = np.array(name_scale_dists[i])\n",
    "  np_name_scale_dists = np.power(np_name_scale_dists, 2)\n",
    "  dists = np.sum(dists, np_name_scale_dists)\n",
    "\n",
    "# for i in range(len(order_scale)):\n",
    "#   np_order_scale_dists = np.array(order_scale_dists[i])\n",
    "#   dists = np.sum(dists, np.power(np_order_scale_dists, 2))\n",
    "\n",
    "# for i in range(len(order_scale)):\n",
    "#   np_strong_scale_dists = np.array(nstrong_scale_dists[i])\n",
    "#   dists = np.sum(dists, np.power(np_strong_scale_dists), 2)\n",
    "\n",
    "# n = len(name_scale) + len(order_scale) + len(strong_scale)\n",
    "# dists = 1/sqrt(n) * np.power(dists, 0.5)"
   ]
  }
 ],
 "metadata": {
  "colab": {
   "name": "PavlovLab1",
   "provenance": []
  },
  "kernelspec": {
   "display_name": "Python 3",
   "language": "python",
   "name": "python3"
  },
  "language_info": {
   "codemirror_mode": {
    "name": "ipython",
    "version": 3
   },
   "file_extension": ".py",
   "mimetype": "text/x-python",
   "name": "python",
   "nbconvert_exporter": "python",
   "pygments_lexer": "ipython3",
   "version": "3.7.3"
  }
 },
 "nbformat": 4,
 "nbformat_minor": 1
}
